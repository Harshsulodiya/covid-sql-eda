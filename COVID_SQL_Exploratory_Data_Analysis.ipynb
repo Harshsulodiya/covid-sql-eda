{
 "cells": [
  {
   "cell_type": "markdown",
   "id": "99429a10",
   "metadata": {},
   "source": [
    "# 🦠 COVID-19 SQL Analysis Notebook\n",
    "Colab-compatible notebook for analyzing COVID data with SQLite."
   ]
  },
  {
   "cell_type": "code",
   "execution_count": null,
   "id": "a30e3f5f",
   "metadata": {},
   "outputs": [],
   "source": [
    "!pip install -q ipython-sql\n",
    "!pip install -q prettytable==3.6.0"
   ]
  },
  {
   "cell_type": "code",
   "execution_count": null,
   "id": "d48f196e",
   "metadata": {},
   "outputs": [],
   "source": [
    "%reload_ext sql\n",
    "%sql sqlite:///covid.db"
   ]
  },
  {
   "cell_type": "code",
   "execution_count": null,
   "id": "fdf23bb9",
   "metadata": {},
   "outputs": [],
   "source": [
    "\n",
    "import pandas as pd, sqlite3\n",
    "\n",
    "url = 'https://raw.githubusercontent.com/owid/covid-19-data/master/public/data/owid-covid-data.csv'\n",
    "df = pd.read_csv(url)\n",
    "\n",
    "df = df[['iso_code', 'continent', 'location', 'date', 'total_cases', 'new_cases',\n",
    "         'total_deaths', 'new_deaths', 'total_vaccinations', 'people_vaccinated',\n",
    "         'people_fully_vaccinated', 'population']]\n",
    "\n",
    "conn = sqlite3.connect('covid.db')\n",
    "df.to_sql('covid_data', conn, if_exists='replace', index=False)\n",
    "print(\"✅ Data loaded into SQLite database.\")\n"
   ]
  },
  {
   "cell_type": "code",
   "execution_count": null,
   "id": "40778092",
   "metadata": {},
   "outputs": [],
   "source": [
    "\n",
    "%%sql\n",
    "SELECT \n",
    "  location,\n",
    "  MAX(total_cases) AS total_cases,\n",
    "  MAX(total_deaths) AS total_deaths,\n",
    "  ROUND((MAX(total_deaths)*100.0)/MAX(total_cases), 2) AS death_rate_percent\n",
    "FROM covid_data\n",
    "WHERE continent IS NOT NULL\n",
    "GROUP BY location\n",
    "ORDER BY death_rate_percent DESC;\n"
   ]
  }
 ],
 "metadata": {},
 "nbformat": 4,
 "nbformat_minor": 5
}
